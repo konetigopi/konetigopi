{
  "nbformat": 4,
  "nbformat_minor": 0,
  "metadata": {
    "colab": {
      "name": "Bitcoin_price.ipynb",
      "provenance": [],
      "collapsed_sections": []
    },
    "kernelspec": {
      "name": "python3",
      "display_name": "Python 3"
    },
    "language_info": {
      "name": "python"
    }
  },
  "cells": [
    {
      "cell_type": "code",
      "metadata": {
        "colab": {
          "base_uri": "https://localhost:8080/"
        },
        "id": "OpaGqWrBk0xd",
        "outputId": "ddccf8f0-9e85-4a2d-e7c7-14fc66288caa"
      },
      "source": [
        "from google.colab import drive\n",
        "drive.mount('/content/drive',force_remount=True)"
      ],
      "execution_count": 1,
      "outputs": [
        {
          "output_type": "stream",
          "text": [
            "Mounted at /content/drive\n"
          ],
          "name": "stdout"
        }
      ]
    },
    {
      "cell_type": "code",
      "metadata": {
        "id": "3Jf4-TWUlo2e"
      },
      "source": [
        "import pandas as pd"
      ],
      "execution_count": 2,
      "outputs": []
    },
    {
      "cell_type": "code",
      "metadata": {
        "colab": {
          "base_uri": "https://localhost:8080/",
          "height": 203
        },
        "id": "xXzRTUk4lU_F",
        "outputId": "3011cdf5-57aa-443c-bb91-919ac43911dd"
      },
      "source": [
        "data = pd.read_csv('/content/bitcoin_price_Training - bitcoin_price.2013Apr-2017Aug.csv.csv')\n",
        "\n",
        "data.head()"
      ],
      "execution_count": 30,
      "outputs": [
        {
          "output_type": "execute_result",
          "data": {
            "text/html": [
              "<div>\n",
              "<style scoped>\n",
              "    .dataframe tbody tr th:only-of-type {\n",
              "        vertical-align: middle;\n",
              "    }\n",
              "\n",
              "    .dataframe tbody tr th {\n",
              "        vertical-align: top;\n",
              "    }\n",
              "\n",
              "    .dataframe thead th {\n",
              "        text-align: right;\n",
              "    }\n",
              "</style>\n",
              "<table border=\"1\" class=\"dataframe\">\n",
              "  <thead>\n",
              "    <tr style=\"text-align: right;\">\n",
              "      <th></th>\n",
              "      <th>Date</th>\n",
              "      <th>Open</th>\n",
              "      <th>High</th>\n",
              "      <th>Low</th>\n",
              "      <th>Close</th>\n",
              "      <th>Volume</th>\n",
              "      <th>Market Cap</th>\n",
              "    </tr>\n",
              "  </thead>\n",
              "  <tbody>\n",
              "    <tr>\n",
              "      <th>0</th>\n",
              "      <td>Jul 31, 2017</td>\n",
              "      <td>2763.24</td>\n",
              "      <td>2889.62</td>\n",
              "      <td>2720.61</td>\n",
              "      <td>2875.34</td>\n",
              "      <td>860,575,000</td>\n",
              "      <td>45,535,800,000</td>\n",
              "    </tr>\n",
              "    <tr>\n",
              "      <th>1</th>\n",
              "      <td>Jul 30, 2017</td>\n",
              "      <td>2724.39</td>\n",
              "      <td>2758.53</td>\n",
              "      <td>2644.85</td>\n",
              "      <td>2757.18</td>\n",
              "      <td>705,943,000</td>\n",
              "      <td>44,890,700,000</td>\n",
              "    </tr>\n",
              "    <tr>\n",
              "      <th>2</th>\n",
              "      <td>Jul 29, 2017</td>\n",
              "      <td>2807.02</td>\n",
              "      <td>2808.76</td>\n",
              "      <td>2692.80</td>\n",
              "      <td>2726.45</td>\n",
              "      <td>803,746,000</td>\n",
              "      <td>46,246,700,000</td>\n",
              "    </tr>\n",
              "    <tr>\n",
              "      <th>3</th>\n",
              "      <td>Jul 28, 2017</td>\n",
              "      <td>2679.73</td>\n",
              "      <td>2897.45</td>\n",
              "      <td>2679.73</td>\n",
              "      <td>2809.01</td>\n",
              "      <td>1,380,100,000</td>\n",
              "      <td>44,144,400,000</td>\n",
              "    </tr>\n",
              "    <tr>\n",
              "      <th>4</th>\n",
              "      <td>Jul 27, 2017</td>\n",
              "      <td>2538.71</td>\n",
              "      <td>2693.32</td>\n",
              "      <td>2529.34</td>\n",
              "      <td>2671.78</td>\n",
              "      <td>789,104,000</td>\n",
              "      <td>41,816,500,000</td>\n",
              "    </tr>\n",
              "  </tbody>\n",
              "</table>\n",
              "</div>"
            ],
            "text/plain": [
              "           Date     Open     High  ...    Close         Volume      Market Cap\n",
              "0  Jul 31, 2017  2763.24  2889.62  ...  2875.34    860,575,000  45,535,800,000\n",
              "1  Jul 30, 2017  2724.39  2758.53  ...  2757.18    705,943,000  44,890,700,000\n",
              "2  Jul 29, 2017  2807.02  2808.76  ...  2726.45    803,746,000  46,246,700,000\n",
              "3  Jul 28, 2017  2679.73  2897.45  ...  2809.01  1,380,100,000  44,144,400,000\n",
              "4  Jul 27, 2017  2538.71  2693.32  ...  2671.78    789,104,000  41,816,500,000\n",
              "\n",
              "[5 rows x 7 columns]"
            ]
          },
          "metadata": {},
          "execution_count": 30
        }
      ]
    },
    {
      "cell_type": "code",
      "metadata": {
        "colab": {
          "base_uri": "https://localhost:8080/",
          "height": 17
        },
        "id": "s4NJdhc1mNYM",
        "outputId": "bc4c93e1-ad35-4d3a-fd45-c28d1ba821d6"
      },
      "source": [
        "import pandas as pd\n",
        "import numpy as np\n",
        "from math import sqrt\n",
        "from numpy import concatenate\n",
        "\n",
        "##ploting packages\n",
        "import seaborn as sns\n",
        "from matplotlib import pyplot \n",
        "import plotly.offline as py\n",
        "import plotly.graph_objs as go\n",
        "py.init_notebook_mode(connected=True)\n",
        "%matplotlib inline\n",
        "from datetime import datetime\n",
        "\n",
        "## machine learning model packages \n",
        "from sklearn.preprocessing import MinMaxScaler\n",
        "from sklearn.preprocessing import LabelEncoder\n",
        "from sklearn.metrics import mean_squared_error\n",
        "from keras.models import Sequential\n",
        "from keras.layers import Dense\n",
        "from keras.layers import LSTM\n"
      ],
      "execution_count": 4,
      "outputs": [
        {
          "output_type": "display_data",
          "data": {
            "text/html": [
              "        <script type=\"text/javascript\">\n",
              "        window.PlotlyConfig = {MathJaxConfig: 'local'};\n",
              "        if (window.MathJax) {MathJax.Hub.Config({SVG: {font: \"STIX-Web\"}});}\n",
              "        if (typeof require !== 'undefined') {\n",
              "        require.undef(\"plotly\");\n",
              "        requirejs.config({\n",
              "            paths: {\n",
              "                'plotly': ['https://cdn.plot.ly/plotly-latest.min']\n",
              "            }\n",
              "        });\n",
              "        require(['plotly'], function(Plotly) {\n",
              "            window._Plotly = Plotly;\n",
              "        });\n",
              "        }\n",
              "        </script>\n",
              "        "
            ]
          },
          "metadata": {}
        }
      ]
    },
    {
      "cell_type": "code",
      "metadata": {
        "colab": {
          "base_uri": "https://localhost:8080/"
        },
        "id": "AOIuzCk1palS",
        "outputId": "b8b6fcea-b9d2-425d-c365-ca8fed89fd9f"
      },
      "source": [
        "data.info() ## there is no null values in the given data set"
      ],
      "execution_count": 5,
      "outputs": [
        {
          "output_type": "stream",
          "text": [
            "<class 'pandas.core.frame.DataFrame'>\n",
            "RangeIndex: 1556 entries, 0 to 1555\n",
            "Data columns (total 7 columns):\n",
            " #   Column      Non-Null Count  Dtype  \n",
            "---  ------      --------------  -----  \n",
            " 0   Date        1556 non-null   object \n",
            " 1   Open        1556 non-null   float64\n",
            " 2   High        1556 non-null   float64\n",
            " 3   Low         1556 non-null   float64\n",
            " 4   Close       1556 non-null   float64\n",
            " 5   Volume      1556 non-null   object \n",
            " 6   Market Cap  1556 non-null   object \n",
            "dtypes: float64(4), object(3)\n",
            "memory usage: 85.2+ KB\n"
          ],
          "name": "stdout"
        }
      ]
    },
    {
      "cell_type": "code",
      "metadata": {
        "colab": {
          "base_uri": "https://localhost:8080/",
          "height": 203
        },
        "id": "YTiJbD2tqjbc",
        "outputId": "5e9bb420-831e-4261-93e3-3d24db42713c"
      },
      "source": [
        "## showing the head of the data \n",
        "data.head()\n"
      ],
      "execution_count": 31,
      "outputs": [
        {
          "output_type": "execute_result",
          "data": {
            "text/html": [
              "<div>\n",
              "<style scoped>\n",
              "    .dataframe tbody tr th:only-of-type {\n",
              "        vertical-align: middle;\n",
              "    }\n",
              "\n",
              "    .dataframe tbody tr th {\n",
              "        vertical-align: top;\n",
              "    }\n",
              "\n",
              "    .dataframe thead th {\n",
              "        text-align: right;\n",
              "    }\n",
              "</style>\n",
              "<table border=\"1\" class=\"dataframe\">\n",
              "  <thead>\n",
              "    <tr style=\"text-align: right;\">\n",
              "      <th></th>\n",
              "      <th>Date</th>\n",
              "      <th>Open</th>\n",
              "      <th>High</th>\n",
              "      <th>Low</th>\n",
              "      <th>Close</th>\n",
              "      <th>Volume</th>\n",
              "      <th>Market Cap</th>\n",
              "    </tr>\n",
              "  </thead>\n",
              "  <tbody>\n",
              "    <tr>\n",
              "      <th>0</th>\n",
              "      <td>Jul 31, 2017</td>\n",
              "      <td>2763.24</td>\n",
              "      <td>2889.62</td>\n",
              "      <td>2720.61</td>\n",
              "      <td>2875.34</td>\n",
              "      <td>860,575,000</td>\n",
              "      <td>45,535,800,000</td>\n",
              "    </tr>\n",
              "    <tr>\n",
              "      <th>1</th>\n",
              "      <td>Jul 30, 2017</td>\n",
              "      <td>2724.39</td>\n",
              "      <td>2758.53</td>\n",
              "      <td>2644.85</td>\n",
              "      <td>2757.18</td>\n",
              "      <td>705,943,000</td>\n",
              "      <td>44,890,700,000</td>\n",
              "    </tr>\n",
              "    <tr>\n",
              "      <th>2</th>\n",
              "      <td>Jul 29, 2017</td>\n",
              "      <td>2807.02</td>\n",
              "      <td>2808.76</td>\n",
              "      <td>2692.80</td>\n",
              "      <td>2726.45</td>\n",
              "      <td>803,746,000</td>\n",
              "      <td>46,246,700,000</td>\n",
              "    </tr>\n",
              "    <tr>\n",
              "      <th>3</th>\n",
              "      <td>Jul 28, 2017</td>\n",
              "      <td>2679.73</td>\n",
              "      <td>2897.45</td>\n",
              "      <td>2679.73</td>\n",
              "      <td>2809.01</td>\n",
              "      <td>1,380,100,000</td>\n",
              "      <td>44,144,400,000</td>\n",
              "    </tr>\n",
              "    <tr>\n",
              "      <th>4</th>\n",
              "      <td>Jul 27, 2017</td>\n",
              "      <td>2538.71</td>\n",
              "      <td>2693.32</td>\n",
              "      <td>2529.34</td>\n",
              "      <td>2671.78</td>\n",
              "      <td>789,104,000</td>\n",
              "      <td>41,816,500,000</td>\n",
              "    </tr>\n",
              "  </tbody>\n",
              "</table>\n",
              "</div>"
            ],
            "text/plain": [
              "           Date     Open     High  ...    Close         Volume      Market Cap\n",
              "0  Jul 31, 2017  2763.24  2889.62  ...  2875.34    860,575,000  45,535,800,000\n",
              "1  Jul 30, 2017  2724.39  2758.53  ...  2757.18    705,943,000  44,890,700,000\n",
              "2  Jul 29, 2017  2807.02  2808.76  ...  2726.45    803,746,000  46,246,700,000\n",
              "3  Jul 28, 2017  2679.73  2897.45  ...  2809.01  1,380,100,000  44,144,400,000\n",
              "4  Jul 27, 2017  2538.71  2693.32  ...  2671.78    789,104,000  41,816,500,000\n",
              "\n",
              "[5 rows x 7 columns]"
            ]
          },
          "metadata": {},
          "execution_count": 31
        }
      ]
    },
    {
      "cell_type": "code",
      "metadata": {
        "colab": {
          "base_uri": "https://localhost:8080/",
          "height": 203
        },
        "id": "kZcJPR13qvb7",
        "outputId": "a4b4bd39-4c30-4479-90c1-4a96514e850f"
      },
      "source": [
        "## tail of the data\n",
        "data.tail()"
      ],
      "execution_count": 7,
      "outputs": [
        {
          "output_type": "execute_result",
          "data": {
            "text/html": [
              "<div>\n",
              "<style scoped>\n",
              "    .dataframe tbody tr th:only-of-type {\n",
              "        vertical-align: middle;\n",
              "    }\n",
              "\n",
              "    .dataframe tbody tr th {\n",
              "        vertical-align: top;\n",
              "    }\n",
              "\n",
              "    .dataframe thead th {\n",
              "        text-align: right;\n",
              "    }\n",
              "</style>\n",
              "<table border=\"1\" class=\"dataframe\">\n",
              "  <thead>\n",
              "    <tr style=\"text-align: right;\">\n",
              "      <th></th>\n",
              "      <th>Date</th>\n",
              "      <th>Open</th>\n",
              "      <th>High</th>\n",
              "      <th>Low</th>\n",
              "      <th>Close</th>\n",
              "      <th>Volume</th>\n",
              "      <th>Market Cap</th>\n",
              "    </tr>\n",
              "  </thead>\n",
              "  <tbody>\n",
              "    <tr>\n",
              "      <th>1551</th>\n",
              "      <td>May 02, 2013</td>\n",
              "      <td>116.38</td>\n",
              "      <td>125.60</td>\n",
              "      <td>92.28</td>\n",
              "      <td>105.21</td>\n",
              "      <td>-</td>\n",
              "      <td>1,292,190,000</td>\n",
              "    </tr>\n",
              "    <tr>\n",
              "      <th>1552</th>\n",
              "      <td>May 01, 2013</td>\n",
              "      <td>139.00</td>\n",
              "      <td>139.89</td>\n",
              "      <td>107.72</td>\n",
              "      <td>116.99</td>\n",
              "      <td>-</td>\n",
              "      <td>1,542,820,000</td>\n",
              "    </tr>\n",
              "    <tr>\n",
              "      <th>1553</th>\n",
              "      <td>Apr 30, 2013</td>\n",
              "      <td>144.00</td>\n",
              "      <td>146.93</td>\n",
              "      <td>134.05</td>\n",
              "      <td>139.00</td>\n",
              "      <td>-</td>\n",
              "      <td>1,597,780,000</td>\n",
              "    </tr>\n",
              "    <tr>\n",
              "      <th>1554</th>\n",
              "      <td>Apr 29, 2013</td>\n",
              "      <td>134.44</td>\n",
              "      <td>147.49</td>\n",
              "      <td>134.00</td>\n",
              "      <td>144.54</td>\n",
              "      <td>-</td>\n",
              "      <td>1,491,160,000</td>\n",
              "    </tr>\n",
              "    <tr>\n",
              "      <th>1555</th>\n",
              "      <td>Apr 28, 2013</td>\n",
              "      <td>135.30</td>\n",
              "      <td>135.98</td>\n",
              "      <td>132.10</td>\n",
              "      <td>134.21</td>\n",
              "      <td>-</td>\n",
              "      <td>1,500,520,000</td>\n",
              "    </tr>\n",
              "  </tbody>\n",
              "</table>\n",
              "</div>"
            ],
            "text/plain": [
              "              Date    Open    High     Low   Close Volume     Market Cap\n",
              "1551  May 02, 2013  116.38  125.60   92.28  105.21      -  1,292,190,000\n",
              "1552  May 01, 2013  139.00  139.89  107.72  116.99      -  1,542,820,000\n",
              "1553  Apr 30, 2013  144.00  146.93  134.05  139.00      -  1,597,780,000\n",
              "1554  Apr 29, 2013  134.44  147.49  134.00  144.54      -  1,491,160,000\n",
              "1555  Apr 28, 2013  135.30  135.98  132.10  134.21      -  1,500,520,000"
            ]
          },
          "metadata": {},
          "execution_count": 7
        }
      ]
    },
    {
      "cell_type": "code",
      "metadata": {
        "colab": {
          "base_uri": "https://localhost:8080/"
        },
        "id": "oDxjfAl3q2jg",
        "outputId": "c59671c6-e7b3-46c0-88a2-f8bde0ec510e"
      },
      "source": [
        "\n",
        "data.shape ## viewing the shape of the data"
      ],
      "execution_count": 8,
      "outputs": [
        {
          "output_type": "execute_result",
          "data": {
            "text/plain": [
              "(1556, 7)"
            ]
          },
          "metadata": {},
          "execution_count": 8
        }
      ]
    },
    {
      "cell_type": "code",
      "metadata": {
        "colab": {
          "base_uri": "https://localhost:8080/"
        },
        "id": "0nqOkHWFrC_R",
        "outputId": "248ba522-f1c2-47e6-fb0d-5268ac5c49d5"
      },
      "source": [
        "## viewing the length of the data\n",
        "len(data)"
      ],
      "execution_count": 9,
      "outputs": [
        {
          "output_type": "execute_result",
          "data": {
            "text/plain": [
              "1556"
            ]
          },
          "metadata": {},
          "execution_count": 9
        }
      ]
    },
    {
      "cell_type": "code",
      "metadata": {
        "colab": {
          "base_uri": "https://localhost:8080/"
        },
        "id": "7DJ3cyU5riL_",
        "outputId": "baeb62eb-13a7-403f-a399-5ac89da9947b"
      },
      "source": [
        "data.index"
      ],
      "execution_count": 10,
      "outputs": [
        {
          "output_type": "execute_result",
          "data": {
            "text/plain": [
              "RangeIndex(start=0, stop=1556, step=1)"
            ]
          },
          "metadata": {},
          "execution_count": 10
        }
      ]
    },
    {
      "cell_type": "code",
      "metadata": {
        "id": "jMJMpejqtuxp"
      },
      "source": [
        "data.rename(columns={'Market Cap': 'Market_cap'}, inplace=True)\n"
      ],
      "execution_count": 32,
      "outputs": []
    },
    {
      "cell_type": "code",
      "metadata": {
        "id": "UTBl9_LrraXR"
      },
      "source": [
        "## plotting the data\n",
        "\n",
        "## market cap is in object need to convert numeric for plotting\n",
        "\n",
        "data['Market_cap'] = pd.to_numeric(data['Market_cap'],errors='coerce' )\n",
        "\n",
        "\n",
        "\n",
        "#weather[\"Temp\"] = weather.Temp.convert_objects(convert_numeric=True)"
      ],
      "execution_count": 37,
      "outputs": []
    },
    {
      "cell_type": "code",
      "metadata": {
        "colab": {
          "base_uri": "https://localhost:8080/"
        },
        "id": "PM58DuMTX4t-",
        "outputId": "f0b188be-1135-4885-ced9-72b699ed0948"
      },
      "source": [
        "data.info()"
      ],
      "execution_count": 38,
      "outputs": [
        {
          "output_type": "stream",
          "text": [
            "<class 'pandas.core.frame.DataFrame'>\n",
            "RangeIndex: 1556 entries, 0 to 1555\n",
            "Data columns (total 7 columns):\n",
            " #   Column      Non-Null Count  Dtype  \n",
            "---  ------      --------------  -----  \n",
            " 0   Date        1556 non-null   object \n",
            " 1   Open        1556 non-null   float64\n",
            " 2   High        1556 non-null   float64\n",
            " 3   Low         1556 non-null   float64\n",
            " 4   Close       1556 non-null   float64\n",
            " 5   Volume      1556 non-null   object \n",
            " 6   Market_cap  0 non-null      float64\n",
            "dtypes: float64(5), object(2)\n",
            "memory usage: 85.2+ KB\n"
          ],
          "name": "stdout"
        }
      ]
    },
    {
      "cell_type": "code",
      "metadata": {
        "colab": {
          "base_uri": "https://localhost:8080/",
          "height": 475
        },
        "id": "Z8nseG6pbUqB",
        "outputId": "6083d99e-1365-4f99-ad9e-dc0f639609cf"
      },
      "source": [
        "## closing price of the bitcon\n",
        "data.set_index(\"Date\").Close.plot(figsize=(14,7), title=\"Weighted Price\")"
      ],
      "execution_count": 20,
      "outputs": [
        {
          "output_type": "execute_result",
          "data": {
            "text/plain": [
              "<matplotlib.axes._subplots.AxesSubplot at 0x7f97b43e7f50>"
            ]
          },
          "metadata": {},
          "execution_count": 20
        },
        {
          "output_type": "display_data",
          "data": {
            "image/png": "[encoded data removed]",
            "text/plain": [
              "<Figure size 1008x504 with 1 Axes>"
            ]
          },
          "metadata": {
            "needs_background": "light"
          }
        }
      ]
    },
    {
      "cell_type": "code",
      "metadata": {
        "colab": {
          "base_uri": "https://localhost:8080/",
          "height": 475
        },
        "id": "dymzE7fabrhz",
        "outputId": "7bcc8a50-aa17-4369-fc45-48d2587e10f6"
      },
      "source": [
        "## open price of the bitcoin\n",
        "data.set_index(\"Date\").Open.plot(figsize=(14,7), title=\"Weighted Price\")"
      ],
      "execution_count": 21,
      "outputs": [
        {
          "output_type": "execute_result",
          "data": {
            "text/plain": [
              "<matplotlib.axes._subplots.AxesSubplot at 0x7f97b2b03650>"
            ]
          },
          "metadata": {},
          "execution_count": 21
        },
        {
          "output_type": "display_data",
          "data": {
            "image/png": "[encoded data removed]",
            "text/plain": [
              "<Figure size 1008x504 with 1 Axes>"
            ]
          },
          "metadata": {
            "needs_background": "light"
          }
        }
      ]
    },
    {
      "cell_type": "code",
      "metadata": {
        "colab": {
          "base_uri": "https://localhost:8080/",
          "height": 80
        },
        "id": "M0tfTrV1dDyJ",
        "outputId": "ae829ada-dca2-4527-e63b-b7bdde430876"
      },
      "source": [
        "data.head(1)"
      ],
      "execution_count": 25,
      "outputs": [
        {
          "output_type": "execute_result",
          "data": {
            "text/html": [
              "<div>\n",
              "<style scoped>\n",
              "    .dataframe tbody tr th:only-of-type {\n",
              "        vertical-align: middle;\n",
              "    }\n",
              "\n",
              "    .dataframe tbody tr th {\n",
              "        vertical-align: top;\n",
              "    }\n",
              "\n",
              "    .dataframe thead th {\n",
              "        text-align: right;\n",
              "    }\n",
              "</style>\n",
              "<table border=\"1\" class=\"dataframe\">\n",
              "  <thead>\n",
              "    <tr style=\"text-align: right;\">\n",
              "      <th></th>\n",
              "      <th>Date</th>\n",
              "      <th>Open</th>\n",
              "      <th>High</th>\n",
              "      <th>Low</th>\n",
              "      <th>Close</th>\n",
              "      <th>Volume</th>\n",
              "      <th>Market_cap</th>\n",
              "    </tr>\n",
              "  </thead>\n",
              "  <tbody>\n",
              "    <tr>\n",
              "      <th>0</th>\n",
              "      <td>Jul 31, 2017</td>\n",
              "      <td>2763.24</td>\n",
              "      <td>2889.62</td>\n",
              "      <td>2720.61</td>\n",
              "      <td>2875.34</td>\n",
              "      <td>860,575,000</td>\n",
              "      <td>-9223372036854775808</td>\n",
              "    </tr>\n",
              "  </tbody>\n",
              "</table>\n",
              "</div>"
            ],
            "text/plain": [
              "           Date     Open     High  ...    Close       Volume           Market_cap\n",
              "0  Jul 31, 2017  2763.24  2889.62  ...  2875.34  860,575,000 -9223372036854775808\n",
              "\n",
              "[1 rows x 7 columns]"
            ]
          },
          "metadata": {},
          "execution_count": 25
        }
      ]
    },
    {
      "cell_type": "code",
      "metadata": {
        "colab": {
          "base_uri": "https://localhost:8080/",
          "height": 475
        },
        "id": "FNlltaq3dOKr",
        "outputId": "c007ea2c-a303-4eee-8f9c-bb844593d9bf"
      },
      "source": [
        "#low rate of the bitcoin \n",
        "data.set_index(\"Date\").Low.plot(figsize=(14,7), title=\"Weighted Price\")"
      ],
      "execution_count": 24,
      "outputs": [
        {
          "output_type": "execute_result",
          "data": {
            "text/plain": [
              "<matplotlib.axes._subplots.AxesSubplot at 0x7f97b2b03290>"
            ]
          },
          "metadata": {},
          "execution_count": 24
        },
        {
          "output_type": "display_data",
          "data": {
            "image/png": "[encoded data removed]",
            "text/plain": [
              "<Figure size 1008x504 with 1 Axes>"
            ]
          },
          "metadata": {
            "needs_background": "light"
          }
        }
      ]
    },
    {
      "cell_type": "code",
      "metadata": {
        "id": "f6RheT7GfOej"
      },
      "source": [
        ""
      ],
      "execution_count": null,
      "outputs": []
    }
  ]
}